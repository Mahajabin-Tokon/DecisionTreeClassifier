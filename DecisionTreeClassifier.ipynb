{
 "cells": [
  {
   "cell_type": "code",
   "execution_count": 10,
   "id": "7a1f5467",
   "metadata": {},
   "outputs": [
    {
     "data": {
      "text/plain": [
       "0.75"
      ]
     },
     "execution_count": 10,
     "metadata": {},
     "output_type": "execute_result"
    }
   ],
   "source": [
    "# Importing the required libraries\n",
    "import pandas as pd  \n",
    "from sklearn.tree import DecisionTreeClassifier  \n",
    "from sklearn.model_selection import train_test_split  \n",
    "from sklearn.metrics import accuracy_score  \n",
    "\n",
    "# Getting the music data from a CSV file into a dataframe\n",
    "music_data = pd.read_csv('music.csv')\n",
    "\n",
    "# Separating the input features (X) from the target variable (y)\n",
    "X = music_data.drop(columns=['genre'])  # X contains all columns except 'genre'\n",
    "y = music_data['genre']  # y contains the 'genre' column\n",
    "\n",
    "# Splitting the data into training and testing sets\n",
    "# X_train and y_train will be used for training the model\n",
    "# X_test and y_test will be used for testing the model's performance\n",
    "X_train, X_test, y_train, y_test = train_test_split(X, y, test_size=0.2)\n",
    "\n",
    "# Creating an instance of the DecisionTreeClassifier model\n",
    "model = DecisionTreeClassifier()\n",
    "\n",
    "# Training the model \n",
    "model.fit(X_train, y_train)\n",
    "\n",
    "# Generating predictions on the test data \n",
    "predictions = model.predict(X_test)\n",
    "\n",
    "# Finding the accuracy of the model by comparing the predicted data with the actual data\n",
    "score = accuracy_score(y_test, predictions)\n",
    "score\n"
   ]
  },
  {
   "cell_type": "code",
   "execution_count": null,
   "id": "f2f6218f",
   "metadata": {},
   "outputs": [],
   "source": []
  }
 ],
 "metadata": {
  "kernelspec": {
   "display_name": "Python 3 (ipykernel)",
   "language": "python",
   "name": "python3"
  },
  "language_info": {
   "codemirror_mode": {
    "name": "ipython",
    "version": 3
   },
   "file_extension": ".py",
   "mimetype": "text/x-python",
   "name": "python",
   "nbconvert_exporter": "python",
   "pygments_lexer": "ipython3",
   "version": "3.10.4"
  }
 },
 "nbformat": 4,
 "nbformat_minor": 5
}
